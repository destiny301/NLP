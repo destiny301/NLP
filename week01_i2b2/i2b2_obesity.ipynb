{
  "nbformat": 4,
  "nbformat_minor": 0,
  "metadata": {
    "colab": {
      "name": "i2b2_obesity.ipynb",
      "provenance": [],
      "collapsed_sections": []
    },
    "kernelspec": {
      "name": "python3",
      "display_name": "Python 3"
    },
    "accelerator": "GPU"
  },
  "cells": [
    {
      "cell_type": "code",
      "metadata": {
        "id": "rbZ32Ojr4C-G",
        "colab_type": "code",
        "colab": {}
      },
      "source": [
        "import numpy as np\n",
        "import tensorflow as tf\n",
        "from tensorflow import keras\n",
        "\n",
        "from tensorflow.keras.layers import Input, Dense, LSTM, Dropout\n",
        "from tensorflow.keras import Model\n",
        "from tensorflow.keras.losses import SparseCategoricalCrossentropy\n",
        "from sklearn.utils import shuffle\n",
        "import os\n",
        "import json\n",
        "from tqdm import tqdm\n",
        "import tensorflow_datasets as tfds"
      ],
      "execution_count": 1,
      "outputs": []
    },
    {
      "cell_type": "code",
      "metadata": {
        "id": "7erK6cP14O5O",
        "colab_type": "code",
        "colab": {}
      },
      "source": [
        "#data\n",
        "label_folder = 'drive/My Drive/Colab Notebooks/data/challenge2008/training/labels'\n",
        "data_folder = 'drive/My Drive/Colab Notebooks/data/challenge2008/training/notes_cuis'"
      ],
      "execution_count": 2,
      "outputs": []
    },
    {
      "cell_type": "code",
      "metadata": {
        "id": "guxZSfGH4XJj",
        "colab_type": "code",
        "colab": {}
      },
      "source": [
        "##label_read\n",
        "label = []\n",
        "\n",
        "for file in os.listdir(label_folder):\n",
        "    with open(os.path.join(label_folder, file),'r') as file_read:\n",
        "        y = 0\n",
        "        for line in file_read.readlines():\n",
        "            line = line.split()\n",
        "            # print(line)\n",
        "            if line[0] == 'intuitive':\n",
        "              if line[2] == 'Obesity':\n",
        "                y = 0 if line[4] == 'N' else 1\n",
        "        # print(y)\n",
        "        label.append(y)\n",
        "        # print(len(label))"
      ],
      "execution_count": 5,
      "outputs": []
    },
    {
      "cell_type": "code",
      "metadata": {
        "id": "uyvIoNUr8BWL",
        "colab_type": "code",
        "colab": {}
      },
      "source": [
        "x = []\n",
        "\n",
        "for file in os.listdir(data_folder):\n",
        "  filepath = os.path.join(data_folder, file)\n",
        "  x.append(open(filepath, encoding='UTF-8').read().strip())"
      ],
      "execution_count": 10,
      "outputs": []
    },
    {
      "cell_type": "code",
      "metadata": {
        "id": "ljL44ERc62cQ",
        "colab_type": "code",
        "colab": {
          "base_uri": "https://localhost:8080/",
          "height": 72
        },
        "outputId": "7bcb3088-b8b8-4d51-b479-5048661ada5a"
      },
      "source": [
        "print(len(x), len(label))\n",
        "print(x[1], label[1])"
      ],
      "execution_count": 12,
      "outputs": [
        {
          "output_type": "stream",
          "text": [
            "730 730\n",
            "C0004238 C0004238 C0003578 C0003578 C1281590 C0232197 C0232197 C0232197 C0232197 C0677519 C1283839 C1283838 C0034121 C0034121 C0596002 C0596002 C0038454 C0038454 C0038454 C0038454 C0455458 C0455458 C0019825 C0005767 C0005767 C0039985 C0403447 C0559499 C0013182 C1140621 C0011860 C1281592 C1281594 C0036658 C0006277 C0700501 C0028754 C0028754 C0028754 C0028754 C0586177 C0243032 C0028756 C0005821 C0020538 C0020538 C0042591 C0042591 C0042591 C0042591 C0333548 C0007226 C0024485 C0024485 C0024485 C0024485 C0024485 C0024485 C1272641 C1272641 C0024109 C0012569 C0012569 C0012569 C0012569 C0012569 C0012569 C0012569 C0035253 C1140618 C0543467 C0232483 C0558145 C0005823 C0005823 C0475371 C0475371 C0262926 C0262926 C0262926 C0262926 C0262926 C0262926 C0262926 C0262926 C0262926 C0021853 C1623258 C1285009 C0197554 C1280538 C1271104 C1271104 C1280999 C0013604 C1883552 C1883552 C1883552 C0202194 C1278896 C1269612 C1306645 C0200005 C0018681 C0027530 C0260877 C1269611 C1281570 C1281570 C1281570 C1281570 C1305618 C1305618 C0224240 C0023216 C0337443 C0373675 C0373675 C0373675 C0373675 C0373675 C0373675 C0373675 C0373675 C0373675 C0373675 C0373675 C0373675 C0373675 C0373675 C0373675 C0373675 C0373675 C0373675 C0373675 C0373675 C1269079 C1269078 C0202098 C0202098 C0202098 C0231303 C0000924 C1444662 C1962945 C0030605 C0039508 C0231183 C0018935 C0702221 C0000726 C0230444 C0202304 C0024554 C0005847 C0005847 C0005847 C0005847 C0022417 C1281589 C1281589 C0225988 C0225988 C0225988 C0543488 C0005845 C0017168 C0152054 C0040357 C0040357 C0949766 C0949766 C0232693 C0202691 C1304988 C0040405 C2939459 C0518014 C0028738 C1281584 C0004268 C0201975 C0225990 C1278908 C0557854 C0018800 C0221423 C0221423 C0018801 C0018801 C1269537 C0460139 C0460139 C0004093 C0004093 C0043250 C0007765 C0015385 C0033707 C0033707 C1457887 C1457887 C0018802 C0018802 C0234147 C0234147 C0018792 C0018792 C0018792 C0018792 C0006121 C0206655 C0587081 C0234219 C0010268 C0004339 C0021308 C0021308 C0018670 C0424945 C0003087 C0034929 C0034929 C0003086 C0229089 C0229089 C0229089 C1963703 C0018787 C0018787 C0018787 C0018787 C0018787 C0455941 C0040715 C0429199 C1504476 C0016129 C0427055 C0427055 C0221198 C0026649 C0278005 C0022646 C0032181 C1280202 C1280202 C1280202 C0015780 C0015780 C0228174 C0228174 C0201952 C0278060 C1299586 C1299586 C0022742 C0007787 C0525032 C0525032 C0525032 C0525032 C0525032 C0525032 C0007785 C0022745 C0018820 C0011849 C0020443 C0202059 C0006318 C0015450 C0015450 C0006104 C0234162 C0234162 C0694539 C0694539 C0086543 C0016928 C0016928 C0446516 C0034943 C0020517 C0020517 C0230168 C0012634 C0012634 C0012634 C0012634 C0817096 C0009244 C0019080 C0037817 C0037817 C0439631 C0439631 C0332804 C0001365 C0332448 C1963578 C0032639 C0028429 C0015392 C0015392 C0015392 1\n"
          ],
          "name": "stdout"
        }
      ]
    },
    {
      "cell_type": "code",
      "metadata": {
        "id": "9hbd6Ch58BZB",
        "colab_type": "code",
        "colab": {}
      },
      "source": [
        "def tokenize(lang):\n",
        "  lang_tokenizer = tf.keras.preprocessing.text.Tokenizer(\n",
        "      filters='')\n",
        "  lang_tokenizer.fit_on_texts(lang)\n",
        "\n",
        "  tensor = lang_tokenizer.texts_to_sequences(lang)\n",
        "\n",
        "  tensor = tf.keras.preprocessing.sequence.pad_sequences(tensor,\n",
        "                                                         padding='post')\n",
        "\n",
        "  return tensor, lang_tokenizer"
      ],
      "execution_count": 13,
      "outputs": []
    },
    {
      "cell_type": "code",
      "metadata": {
        "id": "Jla1cMam8BcU",
        "colab_type": "code",
        "colab": {}
      },
      "source": [
        "x_tensor, inp_lang_tokenizer = tokenize(x)\n"
      ],
      "execution_count": 14,
      "outputs": []
    },
    {
      "cell_type": "code",
      "metadata": {
        "id": "77Nq_RLA_dFa",
        "colab_type": "code",
        "colab": {}
      },
      "source": [
        "from tensorflow.keras.utils import to_categorical\n",
        "\n",
        "y = to_categorical(label)\n",
        "\n",
        "vocab_size = len(inp_lang_tokenizer.word_index)+1"
      ],
      "execution_count": 24,
      "outputs": []
    },
    {
      "cell_type": "code",
      "metadata": {
        "id": "XKusooWr8BiH",
        "colab_type": "code",
        "colab": {
          "base_uri": "https://localhost:8080/",
          "height": 35
        },
        "outputId": "38f2b38c-d6f2-4ae5-ba47-cd6ade2d3158"
      },
      "source": [
        "from sklearn.model_selection import train_test_split\n",
        "\n",
        "xtr, xte, ytr, yte = train_test_split(x_tensor, y, test_size=0.2)\n",
        "\n",
        "print(len(xtr), len(ytr), len(xte), len(yte))"
      ],
      "execution_count": 25,
      "outputs": [
        {
          "output_type": "stream",
          "text": [
            "584 584 146 146\n"
          ],
          "name": "stdout"
        }
      ]
    },
    {
      "cell_type": "code",
      "metadata": {
        "id": "P9_xUIMY_dNz",
        "colab_type": "code",
        "colab": {
          "base_uri": "https://localhost:8080/",
          "height": 364
        },
        "outputId": "4ece42be-46b0-4e13-a1bf-c7c43e063719"
      },
      "source": [
        "from tensorflow.keras import layers\n",
        "\n",
        "model = tf.keras.Sequential([\n",
        "        layers.Embedding(vocab_size, 64),\n",
        "        layers.Bidirectional(layers.LSTM(64, return_sequences=True)),\n",
        "        layers.Bidirectional(layers.LSTM(32)),\n",
        "        layers.Dense(64, activation='relu'),\n",
        "        layers.Dropout(0.5),\n",
        "        layers.Dense(2, activation='softmax')\n",
        "])\n",
        "\n",
        "model.summary()"
      ],
      "execution_count": 26,
      "outputs": [
        {
          "output_type": "stream",
          "text": [
            "Model: \"sequential_3\"\n",
            "_________________________________________________________________\n",
            "Layer (type)                 Output Shape              Param #   \n",
            "=================================================================\n",
            "embedding_3 (Embedding)      (None, None, 64)          318336    \n",
            "_________________________________________________________________\n",
            "bidirectional_6 (Bidirection (None, None, 128)         66048     \n",
            "_________________________________________________________________\n",
            "bidirectional_7 (Bidirection (None, 64)                41216     \n",
            "_________________________________________________________________\n",
            "dense_6 (Dense)              (None, 64)                4160      \n",
            "_________________________________________________________________\n",
            "dropout_3 (Dropout)          (None, 64)                0         \n",
            "_________________________________________________________________\n",
            "dense_7 (Dense)              (None, 2)                 130       \n",
            "=================================================================\n",
            "Total params: 429,890\n",
            "Trainable params: 429,890\n",
            "Non-trainable params: 0\n",
            "_________________________________________________________________\n"
          ],
          "name": "stdout"
        }
      ]
    },
    {
      "cell_type": "code",
      "metadata": {
        "id": "Xe6kSIPO_dKD",
        "colab_type": "code",
        "colab": {}
      },
      "source": [
        "model.compile(optimizer=tf.keras.optimizers.Adam(1e-4), loss=tf.keras.losses.BinaryCrossentropy(), metrics=['accuracy'])"
      ],
      "execution_count": 27,
      "outputs": []
    },
    {
      "cell_type": "code",
      "metadata": {
        "id": "PRo5PsPyCB0H",
        "colab_type": "code",
        "colab": {
          "base_uri": "https://localhost:8080/",
          "height": 364
        },
        "outputId": "0342316a-61c9-4181-adad-2f896b24a7cd"
      },
      "source": [
        "results = model.fit(xtr, ytr, epochs=10, batch_size=32, validation_split = 0.2)"
      ],
      "execution_count": 28,
      "outputs": [
        {
          "output_type": "stream",
          "text": [
            "Epoch 1/10\n",
            "15/15 [==============================] - 3s 212ms/step - loss: 0.6909 - accuracy: 0.5460 - val_loss: 0.6896 - val_accuracy: 0.5897\n",
            "Epoch 2/10\n",
            "15/15 [==============================] - 2s 133ms/step - loss: 0.6859 - accuracy: 0.6188 - val_loss: 0.6863 - val_accuracy: 0.5897\n",
            "Epoch 3/10\n",
            "15/15 [==============================] - 2s 141ms/step - loss: 0.6803 - accuracy: 0.6210 - val_loss: 0.6830 - val_accuracy: 0.5897\n",
            "Epoch 4/10\n",
            "15/15 [==============================] - 2s 134ms/step - loss: 0.6767 - accuracy: 0.6188 - val_loss: 0.6803 - val_accuracy: 0.5897\n",
            "Epoch 5/10\n",
            "15/15 [==============================] - 2s 136ms/step - loss: 0.6707 - accuracy: 0.6188 - val_loss: 0.6784 - val_accuracy: 0.5897\n",
            "Epoch 6/10\n",
            "15/15 [==============================] - 2s 141ms/step - loss: 0.6689 - accuracy: 0.6188 - val_loss: 0.6774 - val_accuracy: 0.5897\n",
            "Epoch 7/10\n",
            "15/15 [==============================] - 2s 133ms/step - loss: 0.6660 - accuracy: 0.6188 - val_loss: 0.6776 - val_accuracy: 0.5897\n",
            "Epoch 8/10\n",
            "15/15 [==============================] - 2s 136ms/step - loss: 0.6653 - accuracy: 0.6188 - val_loss: 0.6791 - val_accuracy: 0.5897\n",
            "Epoch 9/10\n",
            "15/15 [==============================] - 2s 136ms/step - loss: 0.6621 - accuracy: 0.6188 - val_loss: 0.6787 - val_accuracy: 0.5897\n",
            "Epoch 10/10\n",
            "15/15 [==============================] - 2s 136ms/step - loss: 0.6599 - accuracy: 0.6188 - val_loss: 0.6782 - val_accuracy: 0.5897\n"
          ],
          "name": "stdout"
        }
      ]
    },
    {
      "cell_type": "code",
      "metadata": {
        "id": "jKMgm78e6Fk4",
        "colab_type": "code",
        "colab": {}
      },
      "source": [
        ""
      ],
      "execution_count": null,
      "outputs": []
    }
  ]
}