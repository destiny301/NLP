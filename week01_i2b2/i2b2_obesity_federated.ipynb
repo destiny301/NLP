{
  "nbformat": 4,
  "nbformat_minor": 0,
  "metadata": {
    "colab": {
      "name": "i2b2_obesity.ipynb",
      "provenance": [],
      "collapsed_sections": []
    },
    "kernelspec": {
      "name": "python3",
      "display_name": "Python 3"
    },
    "accelerator": "GPU"
  },
  "cells": [
    {
      "cell_type": "code",
      "metadata": {
        "id": "rbZ32Ojr4C-G",
        "colab_type": "code",
        "colab": {}
      },
      "source": [
        "import numpy as np\n",
        "import tensorflow as tf\n",
        "from tensorflow import keras\n",
        "\n",
        "from tensorflow.keras.layers import Input, Dense, LSTM, Dropout\n",
        "from tensorflow.keras import Model\n",
        "from tensorflow.keras.losses import SparseCategoricalCrossentropy\n",
        "from sklearn.utils import shuffle\n",
        "import os\n",
        "import json\n",
        "from tqdm import tqdm\n",
        "import tensorflow_datasets as tfds"
      ],
      "execution_count": 1,
      "outputs": []
    },
    {
      "cell_type": "code",
      "metadata": {
        "id": "7erK6cP14O5O",
        "colab_type": "code",
        "colab": {}
      },
      "source": [
        "#data\n",
        "label_folder = 'drive/My Drive/Colab Notebooks/data/challenge2008/training/labels'\n",
        "data_folder = 'drive/My Drive/Colab Notebooks/data/challenge2008/training/notes_cuis'"
      ],
      "execution_count": 2,
      "outputs": []
    },
    {
      "cell_type": "code",
      "metadata": {
        "id": "guxZSfGH4XJj",
        "colab_type": "code",
        "colab": {}
      },
      "source": [
        "##label_read\n",
        "label = []\n",
        "\n",
        "for file in os.listdir(label_folder):\n",
        "    with open(os.path.join(label_folder, file),'r') as file_read:\n",
        "        y = 0\n",
        "        for line in file_read.readlines():\n",
        "            line = line.split()\n",
        "            # print(line)\n",
        "            if line[0] == 'intuitive':\n",
        "              if line[2] == 'Obesity':\n",
        "                y = 0 if line[4] == 'N' else 1\n",
        "        # print(y)\n",
        "        label.append(y)\n",
        "        # print(len(label))"
      ],
      "execution_count": 3,
      "outputs": []
    },
    {
      "cell_type": "code",
      "metadata": {
        "id": "uyvIoNUr8BWL",
        "colab_type": "code",
        "colab": {}
      },
      "source": [
        "x = []\n",
        "\n",
        "for file in os.listdir(data_folder):\n",
        "  filepath = os.path.join(data_folder, file)\n",
        "  x.append(open(filepath, encoding='UTF-8').read().strip())"
      ],
      "execution_count": 4,
      "outputs": []
    },
    {
      "cell_type": "code",
      "metadata": {
        "id": "ljL44ERc62cQ",
        "colab_type": "code",
        "colab": {
          "base_uri": "https://localhost:8080/",
          "height": 72
        },
        "outputId": "58633f88-e051-48fa-ab25-e4753b580a8a"
      },
      "source": [
        "print(len(x), len(label))\n",
        "print(x[1], label[1])"
      ],
      "execution_count": 5,
      "outputs": [
        {
          "output_type": "stream",
          "text": [
            "730 730\n",
            "C0004238 C0004238 C0003578 C0003578 C1281590 C0232197 C0232197 C0232197 C0232197 C0677519 C1283839 C1283838 C0034121 C0034121 C0596002 C0596002 C0038454 C0038454 C0038454 C0038454 C0455458 C0455458 C0019825 C0005767 C0005767 C0039985 C0403447 C0559499 C0013182 C1140621 C0011860 C1281592 C1281594 C0036658 C0006277 C0700501 C0028754 C0028754 C0028754 C0028754 C0586177 C0243032 C0028756 C0005821 C0020538 C0020538 C0042591 C0042591 C0042591 C0042591 C0333548 C0007226 C0024485 C0024485 C0024485 C0024485 C0024485 C0024485 C1272641 C1272641 C0024109 C0012569 C0012569 C0012569 C0012569 C0012569 C0012569 C0012569 C0035253 C1140618 C0543467 C0232483 C0558145 C0005823 C0005823 C0475371 C0475371 C0262926 C0262926 C0262926 C0262926 C0262926 C0262926 C0262926 C0262926 C0262926 C0021853 C1623258 C1285009 C0197554 C1280538 C1271104 C1271104 C1280999 C0013604 C1883552 C1883552 C1883552 C0202194 C1278896 C1269612 C1306645 C0200005 C0018681 C0027530 C0260877 C1269611 C1281570 C1281570 C1281570 C1281570 C1305618 C1305618 C0224240 C0023216 C0337443 C0373675 C0373675 C0373675 C0373675 C0373675 C0373675 C0373675 C0373675 C0373675 C0373675 C0373675 C0373675 C0373675 C0373675 C0373675 C0373675 C0373675 C0373675 C0373675 C0373675 C1269079 C1269078 C0202098 C0202098 C0202098 C0231303 C0000924 C1444662 C1962945 C0030605 C0039508 C0231183 C0018935 C0702221 C0000726 C0230444 C0202304 C0024554 C0005847 C0005847 C0005847 C0005847 C0022417 C1281589 C1281589 C0225988 C0225988 C0225988 C0543488 C0005845 C0017168 C0152054 C0040357 C0040357 C0949766 C0949766 C0232693 C0202691 C1304988 C0040405 C2939459 C0518014 C0028738 C1281584 C0004268 C0201975 C0225990 C1278908 C0557854 C0018800 C0221423 C0221423 C0018801 C0018801 C1269537 C0460139 C0460139 C0004093 C0004093 C0043250 C0007765 C0015385 C0033707 C0033707 C1457887 C1457887 C0018802 C0018802 C0234147 C0234147 C0018792 C0018792 C0018792 C0018792 C0006121 C0206655 C0587081 C0234219 C0010268 C0004339 C0021308 C0021308 C0018670 C0424945 C0003087 C0034929 C0034929 C0003086 C0229089 C0229089 C0229089 C1963703 C0018787 C0018787 C0018787 C0018787 C0018787 C0455941 C0040715 C0429199 C1504476 C0016129 C0427055 C0427055 C0221198 C0026649 C0278005 C0022646 C0032181 C1280202 C1280202 C1280202 C0015780 C0015780 C0228174 C0228174 C0201952 C0278060 C1299586 C1299586 C0022742 C0007787 C0525032 C0525032 C0525032 C0525032 C0525032 C0525032 C0007785 C0022745 C0018820 C0011849 C0020443 C0202059 C0006318 C0015450 C0015450 C0006104 C0234162 C0234162 C0694539 C0694539 C0086543 C0016928 C0016928 C0446516 C0034943 C0020517 C0020517 C0230168 C0012634 C0012634 C0012634 C0012634 C0817096 C0009244 C0019080 C0037817 C0037817 C0439631 C0439631 C0332804 C0001365 C0332448 C1963578 C0032639 C0028429 C0015392 C0015392 C0015392 1\n"
          ],
          "name": "stdout"
        }
      ]
    },
    {
      "cell_type": "code",
      "metadata": {
        "id": "9hbd6Ch58BZB",
        "colab_type": "code",
        "colab": {}
      },
      "source": [
        "def tokenize(lang):\n",
        "  lang_tokenizer = tf.keras.preprocessing.text.Tokenizer(\n",
        "      filters='')\n",
        "  lang_tokenizer.fit_on_texts(lang)\n",
        "\n",
        "  tensor = lang_tokenizer.texts_to_sequences(lang)\n",
        "\n",
        "  tensor = tf.keras.preprocessing.sequence.pad_sequences(tensor,\n",
        "                                                         padding='post')\n",
        "\n",
        "  return tensor, lang_tokenizer"
      ],
      "execution_count": 6,
      "outputs": []
    },
    {
      "cell_type": "code",
      "metadata": {
        "id": "Jla1cMam8BcU",
        "colab_type": "code",
        "colab": {}
      },
      "source": [
        "x_tensor, inp_lang_tokenizer = tokenize(x)\n"
      ],
      "execution_count": 7,
      "outputs": []
    },
    {
      "cell_type": "code",
      "metadata": {
        "id": "77Nq_RLA_dFa",
        "colab_type": "code",
        "colab": {}
      },
      "source": [
        "from tensorflow.keras.utils import to_categorical\n",
        "\n",
        "y = to_categorical(label)\n",
        "\n",
        "vocab_size = len(inp_lang_tokenizer.word_index)+1"
      ],
      "execution_count": 8,
      "outputs": []
    },
    {
      "cell_type": "code",
      "metadata": {
        "id": "KJ5ooy-Kx_Mo",
        "colab_type": "code",
        "colab": {
          "base_uri": "https://localhost:8080/",
          "height": 35
        },
        "outputId": "66dd9de6-80d1-46d7-a019-7895ea80adbd"
      },
      "source": [
        "print(x_tensor.shape, y.shape)"
      ],
      "execution_count": 12,
      "outputs": [
        {
          "output_type": "stream",
          "text": [
            "(730, 1026) (730, 2)\n"
          ],
          "name": "stdout"
        }
      ]
    },
    {
      "cell_type": "code",
      "metadata": {
        "id": "XKusooWr8BiH",
        "colab_type": "code",
        "colab": {
          "base_uri": "https://localhost:8080/",
          "height": 35
        },
        "outputId": "38f2b38c-d6f2-4ae5-ba47-cd6ade2d3158"
      },
      "source": [
        "# from sklearn.model_selection import train_test_split\n",
        "\n",
        "# xtr, xte, ytr, yte = train_test_split(x_tensor, y, test_size=0.2)\n",
        "\n",
        "# print(len(xtr), len(ytr), len(xte), len(yte))"
      ],
      "execution_count": 25,
      "outputs": [
        {
          "output_type": "stream",
          "text": [
            "584 584 146 146\n"
          ],
          "name": "stdout"
        }
      ]
    },
    {
      "cell_type": "code",
      "metadata": {
        "id": "P9_xUIMY_dNz",
        "colab_type": "code",
        "colab": {
          "base_uri": "https://localhost:8080/",
          "height": 364
        },
        "outputId": "78627408-e445-4ae9-de86-03740bac71e1"
      },
      "source": [
        "from tensorflow.keras import layers\n",
        "\n",
        "model = tf.keras.Sequential([\n",
        "        layers.Embedding(vocab_size, 64),\n",
        "        layers.Bidirectional(layers.LSTM(64, return_sequences=True)),\n",
        "        layers.Bidirectional(layers.LSTM(32)),\n",
        "        layers.Dense(64, activation='relu'),\n",
        "        layers.Dropout(0.5),\n",
        "        layers.Dense(2, activation='softmax')\n",
        "])\n",
        "\n",
        "model.summary()"
      ],
      "execution_count": 23,
      "outputs": [
        {
          "output_type": "stream",
          "text": [
            "Model: \"sequential_1\"\n",
            "_________________________________________________________________\n",
            "Layer (type)                 Output Shape              Param #   \n",
            "=================================================================\n",
            "embedding_1 (Embedding)      (None, None, 64)          318336    \n",
            "_________________________________________________________________\n",
            "bidirectional_2 (Bidirection (None, None, 128)         66048     \n",
            "_________________________________________________________________\n",
            "bidirectional_3 (Bidirection (None, 64)                41216     \n",
            "_________________________________________________________________\n",
            "dense_2 (Dense)              (None, 64)                4160      \n",
            "_________________________________________________________________\n",
            "dropout_1 (Dropout)          (None, 64)                0         \n",
            "_________________________________________________________________\n",
            "dense_3 (Dense)              (None, 2)                 130       \n",
            "=================================================================\n",
            "Total params: 429,890\n",
            "Trainable params: 429,890\n",
            "Non-trainable params: 0\n",
            "_________________________________________________________________\n"
          ],
          "name": "stdout"
        }
      ]
    },
    {
      "cell_type": "code",
      "metadata": {
        "id": "Xe6kSIPO_dKD",
        "colab_type": "code",
        "colab": {}
      },
      "source": [
        "model.compile(optimizer=tf.keras.optimizers.Adam(1e-4), loss=tf.keras.losses.BinaryCrossentropy(), metrics=['accuracy'])"
      ],
      "execution_count": 24,
      "outputs": []
    },
    {
      "cell_type": "code",
      "metadata": {
        "id": "PRo5PsPyCB0H",
        "colab_type": "code",
        "colab": {
          "base_uri": "https://localhost:8080/",
          "height": 364
        },
        "outputId": "0342316a-61c9-4181-adad-2f896b24a7cd"
      },
      "source": [
        "# results = model.fit(xtr, ytr, epochs=10, batch_size=32, validation_split = 0.2)"
      ],
      "execution_count": 28,
      "outputs": [
        {
          "output_type": "stream",
          "text": [
            "Epoch 1/10\n",
            "15/15 [==============================] - 3s 212ms/step - loss: 0.6909 - accuracy: 0.5460 - val_loss: 0.6896 - val_accuracy: 0.5897\n",
            "Epoch 2/10\n",
            "15/15 [==============================] - 2s 133ms/step - loss: 0.6859 - accuracy: 0.6188 - val_loss: 0.6863 - val_accuracy: 0.5897\n",
            "Epoch 3/10\n",
            "15/15 [==============================] - 2s 141ms/step - loss: 0.6803 - accuracy: 0.6210 - val_loss: 0.6830 - val_accuracy: 0.5897\n",
            "Epoch 4/10\n",
            "15/15 [==============================] - 2s 134ms/step - loss: 0.6767 - accuracy: 0.6188 - val_loss: 0.6803 - val_accuracy: 0.5897\n",
            "Epoch 5/10\n",
            "15/15 [==============================] - 2s 136ms/step - loss: 0.6707 - accuracy: 0.6188 - val_loss: 0.6784 - val_accuracy: 0.5897\n",
            "Epoch 6/10\n",
            "15/15 [==============================] - 2s 141ms/step - loss: 0.6689 - accuracy: 0.6188 - val_loss: 0.6774 - val_accuracy: 0.5897\n",
            "Epoch 7/10\n",
            "15/15 [==============================] - 2s 133ms/step - loss: 0.6660 - accuracy: 0.6188 - val_loss: 0.6776 - val_accuracy: 0.5897\n",
            "Epoch 8/10\n",
            "15/15 [==============================] - 2s 136ms/step - loss: 0.6653 - accuracy: 0.6188 - val_loss: 0.6791 - val_accuracy: 0.5897\n",
            "Epoch 9/10\n",
            "15/15 [==============================] - 2s 136ms/step - loss: 0.6621 - accuracy: 0.6188 - val_loss: 0.6787 - val_accuracy: 0.5897\n",
            "Epoch 10/10\n",
            "15/15 [==============================] - 2s 136ms/step - loss: 0.6599 - accuracy: 0.6188 - val_loss: 0.6782 - val_accuracy: 0.5897\n"
          ],
          "name": "stdout"
        }
      ]
    },
    {
      "cell_type": "code",
      "metadata": {
        "id": "pvmEpOVOuycW",
        "colab_type": "code",
        "colab": {}
      },
      "source": [
        "# federal\n",
        "C = 0.2\n",
        "E = 10\n",
        "B = 16\n",
        "w = model.get_weights()"
      ],
      "execution_count": 25,
      "outputs": []
    },
    {
      "cell_type": "code",
      "metadata": {
        "id": "zvDsD5glvBbw",
        "colab_type": "code",
        "colab": {}
      },
      "source": [
        "K = 10\n",
        "round = 10"
      ],
      "execution_count": 26,
      "outputs": []
    },
    {
      "cell_type": "code",
      "metadata": {
        "id": "HegyuQzuvNnn",
        "colab_type": "code",
        "colab": {}
      },
      "source": [
        "def ClientUpdate(data, label, w):\n",
        "    model.set_weights(w)\n",
        "    model.fit(data, label, batch_size=B, epochs=E, validation_split=0.2)\n",
        "\n",
        "    return model.get_weights()"
      ],
      "execution_count": 27,
      "outputs": []
    },
    {
      "cell_type": "code",
      "metadata": {
        "id": "uTsFAGqavRPJ",
        "colab_type": "code",
        "colab": {}
      },
      "source": [
        "#split data into k arrays\n",
        "x_silos = np.arange(730*1026).reshape(10, 73, 1026)\n",
        "y_silos = np.arange(730*2).reshape(10, 73, 2)\n",
        "\n",
        "for k in range(10):\n",
        "    x_silos[k] = x_tensor[k*73:(k+1)*73]\n",
        "    y_silos[k] = y[k*73:(k+1)*73]"
      ],
      "execution_count": 28,
      "outputs": []
    },
    {
      "cell_type": "code",
      "metadata": {
        "id": "mhnsSjEXy0se",
        "colab_type": "code",
        "colab": {
          "base_uri": "https://localhost:8080/",
          "height": 35
        },
        "outputId": "3ab589b8-1e2b-44cd-a908-7940d847019e"
      },
      "source": [
        "print(x_silos[1].shape)"
      ],
      "execution_count": 29,
      "outputs": [
        {
          "output_type": "stream",
          "text": [
            "(73, 1026)\n"
          ],
          "name": "stdout"
        }
      ]
    },
    {
      "cell_type": "code",
      "metadata": {
        "id": "RM1Fo_Ouy9o8",
        "colab_type": "code",
        "colab": {
          "base_uri": "https://localhost:8080/",
          "height": 1000
        },
        "outputId": "b75a03c3-4514-4ebd-f8da-884997fc48ec"
      },
      "source": [
        "for i in range(2):\n",
        "    print(\"###round{}###\".format(i+1))\n",
        "    data,label = shuffle(x_silos, y_silos)\n",
        "    weight = []\n",
        "\n",
        "    for j in range(10):\n",
        "        print(\"###client{}###\".format(j+1))\n",
        "        weight.append(ClientUpdate(x_silos[j], y_silos[j], w))\n",
        "    w = np.mean(weight, axis=0)"
      ],
      "execution_count": 30,
      "outputs": [
        {
          "output_type": "stream",
          "text": [
            "###round1###\n",
            "###client1###\n",
            "Epoch 1/10\n",
            "4/4 [==============================] - 2s 388ms/step - loss: 0.6958 - accuracy: 0.4138 - val_loss: 0.6950 - val_accuracy: 0.4000\n",
            "Epoch 2/10\n",
            "4/4 [==============================] - 0s 114ms/step - loss: 0.6959 - accuracy: 0.4655 - val_loss: 0.6941 - val_accuracy: 0.3333\n",
            "Epoch 3/10\n",
            "4/4 [==============================] - 0s 103ms/step - loss: 0.6911 - accuracy: 0.5862 - val_loss: 0.6938 - val_accuracy: 0.3333\n",
            "Epoch 4/10\n",
            "4/4 [==============================] - 0s 103ms/step - loss: 0.6929 - accuracy: 0.5172 - val_loss: 0.6937 - val_accuracy: 0.3333\n",
            "Epoch 5/10\n",
            "4/4 [==============================] - 0s 104ms/step - loss: 0.6924 - accuracy: 0.5517 - val_loss: 0.6936 - val_accuracy: 0.4667\n",
            "Epoch 6/10\n",
            "4/4 [==============================] - 0s 123ms/step - loss: 0.6940 - accuracy: 0.4483 - val_loss: 0.6937 - val_accuracy: 0.4000\n",
            "Epoch 7/10\n",
            "4/4 [==============================] - 0s 121ms/step - loss: 0.6905 - accuracy: 0.5690 - val_loss: 0.6940 - val_accuracy: 0.3333\n",
            "Epoch 8/10\n",
            "4/4 [==============================] - 0s 118ms/step - loss: 0.6951 - accuracy: 0.5172 - val_loss: 0.6941 - val_accuracy: 0.3333\n",
            "Epoch 9/10\n",
            "4/4 [==============================] - 0s 105ms/step - loss: 0.6919 - accuracy: 0.5000 - val_loss: 0.6941 - val_accuracy: 0.3333\n",
            "Epoch 10/10\n",
            "4/4 [==============================] - 0s 105ms/step - loss: 0.6909 - accuracy: 0.5862 - val_loss: 0.6942 - val_accuracy: 0.3333\n",
            "###client2###\n",
            "Epoch 1/10\n",
            "4/4 [==============================] - 0s 108ms/step - loss: 0.6924 - accuracy: 0.5862 - val_loss: 0.6919 - val_accuracy: 0.6000\n",
            "Epoch 2/10\n",
            "4/4 [==============================] - 0s 109ms/step - loss: 0.6890 - accuracy: 0.6897 - val_loss: 0.6896 - val_accuracy: 0.6667\n",
            "Epoch 3/10\n",
            "4/4 [==============================] - 0s 112ms/step - loss: 0.6868 - accuracy: 0.7069 - val_loss: 0.6867 - val_accuracy: 0.6667\n",
            "Epoch 4/10\n",
            "4/4 [==============================] - 0s 116ms/step - loss: 0.6831 - accuracy: 0.7069 - val_loss: 0.6835 - val_accuracy: 0.6667\n",
            "Epoch 5/10\n",
            "4/4 [==============================] - 0s 120ms/step - loss: 0.6787 - accuracy: 0.6724 - val_loss: 0.6797 - val_accuracy: 0.6667\n",
            "Epoch 6/10\n",
            "4/4 [==============================] - 0s 103ms/step - loss: 0.6718 - accuracy: 0.6897 - val_loss: 0.6754 - val_accuracy: 0.6667\n",
            "Epoch 7/10\n",
            "4/4 [==============================] - 0s 106ms/step - loss: 0.6662 - accuracy: 0.6897 - val_loss: 0.6707 - val_accuracy: 0.6667\n",
            "Epoch 8/10\n",
            "4/4 [==============================] - 0s 117ms/step - loss: 0.6592 - accuracy: 0.6897 - val_loss: 0.6658 - val_accuracy: 0.6667\n",
            "Epoch 9/10\n",
            "4/4 [==============================] - 0s 103ms/step - loss: 0.6599 - accuracy: 0.6897 - val_loss: 0.6611 - val_accuracy: 0.6667\n",
            "Epoch 10/10\n",
            "4/4 [==============================] - 0s 102ms/step - loss: 0.6565 - accuracy: 0.6897 - val_loss: 0.6564 - val_accuracy: 0.6667\n",
            "###client3###\n",
            "Epoch 1/10\n",
            "4/4 [==============================] - 0s 124ms/step - loss: 0.6919 - accuracy: 0.5345 - val_loss: 0.6895 - val_accuracy: 0.6000\n",
            "Epoch 2/10\n",
            "4/4 [==============================] - 0s 106ms/step - loss: 0.6889 - accuracy: 0.5862 - val_loss: 0.6879 - val_accuracy: 0.6000\n",
            "Epoch 3/10\n",
            "4/4 [==============================] - 0s 103ms/step - loss: 0.6870 - accuracy: 0.5517 - val_loss: 0.6859 - val_accuracy: 0.6000\n",
            "Epoch 4/10\n",
            "4/4 [==============================] - 0s 102ms/step - loss: 0.6811 - accuracy: 0.6207 - val_loss: 0.6840 - val_accuracy: 0.6000\n",
            "Epoch 5/10\n",
            "4/4 [==============================] - 0s 104ms/step - loss: 0.6771 - accuracy: 0.6034 - val_loss: 0.6816 - val_accuracy: 0.6000\n",
            "Epoch 6/10\n",
            "4/4 [==============================] - 0s 101ms/step - loss: 0.6766 - accuracy: 0.6207 - val_loss: 0.6792 - val_accuracy: 0.6000\n",
            "Epoch 7/10\n",
            "4/4 [==============================] - 0s 103ms/step - loss: 0.6694 - accuracy: 0.6207 - val_loss: 0.6773 - val_accuracy: 0.6000\n",
            "Epoch 8/10\n",
            "4/4 [==============================] - 0s 109ms/step - loss: 0.6751 - accuracy: 0.6207 - val_loss: 0.6756 - val_accuracy: 0.6000\n",
            "Epoch 9/10\n",
            "4/4 [==============================] - 0s 106ms/step - loss: 0.6758 - accuracy: 0.6207 - val_loss: 0.6744 - val_accuracy: 0.6000\n",
            "Epoch 10/10\n",
            "4/4 [==============================] - 0s 101ms/step - loss: 0.6623 - accuracy: 0.6207 - val_loss: 0.6734 - val_accuracy: 0.6000\n",
            "###client4###\n",
            "Epoch 1/10\n",
            "4/4 [==============================] - 0s 111ms/step - loss: 0.6918 - accuracy: 0.6207 - val_loss: 0.6917 - val_accuracy: 0.5333\n",
            "Epoch 2/10\n",
            "4/4 [==============================] - 0s 110ms/step - loss: 0.6922 - accuracy: 0.5172 - val_loss: 0.6914 - val_accuracy: 0.5333\n",
            "Epoch 3/10\n",
            "4/4 [==============================] - 0s 118ms/step - loss: 0.6907 - accuracy: 0.5517 - val_loss: 0.6912 - val_accuracy: 0.5333\n",
            "Epoch 4/10\n",
            "4/4 [==============================] - 0s 106ms/step - loss: 0.6892 - accuracy: 0.5690 - val_loss: 0.6910 - val_accuracy: 0.5333\n",
            "Epoch 5/10\n",
            "4/4 [==============================] - 0s 103ms/step - loss: 0.6857 - accuracy: 0.5862 - val_loss: 0.6909 - val_accuracy: 0.5333\n",
            "Epoch 6/10\n",
            "4/4 [==============================] - 0s 103ms/step - loss: 0.6906 - accuracy: 0.5690 - val_loss: 0.6908 - val_accuracy: 0.5333\n",
            "Epoch 7/10\n",
            "4/4 [==============================] - 0s 103ms/step - loss: 0.6834 - accuracy: 0.5862 - val_loss: 0.6909 - val_accuracy: 0.5333\n",
            "Epoch 8/10\n",
            "4/4 [==============================] - 0s 103ms/step - loss: 0.6886 - accuracy: 0.5690 - val_loss: 0.6912 - val_accuracy: 0.5333\n",
            "Epoch 9/10\n",
            "4/4 [==============================] - 0s 112ms/step - loss: 0.6839 - accuracy: 0.5690 - val_loss: 0.6915 - val_accuracy: 0.5333\n",
            "Epoch 10/10\n",
            "4/4 [==============================] - 0s 121ms/step - loss: 0.6840 - accuracy: 0.5690 - val_loss: 0.6918 - val_accuracy: 0.5333\n",
            "###client5###\n",
            "Epoch 1/10\n",
            "4/4 [==============================] - 0s 109ms/step - loss: 0.6907 - accuracy: 0.5345 - val_loss: 0.6945 - val_accuracy: 0.4667\n",
            "Epoch 2/10\n",
            "4/4 [==============================] - 0s 107ms/step - loss: 0.6865 - accuracy: 0.7414 - val_loss: 0.6948 - val_accuracy: 0.4667\n",
            "Epoch 3/10\n",
            "4/4 [==============================] - 0s 105ms/step - loss: 0.6858 - accuracy: 0.6897 - val_loss: 0.6952 - val_accuracy: 0.4667\n",
            "Epoch 4/10\n",
            "4/4 [==============================] - 0s 104ms/step - loss: 0.6779 - accuracy: 0.7069 - val_loss: 0.6959 - val_accuracy: 0.4667\n",
            "Epoch 5/10\n",
            "4/4 [==============================] - 0s 121ms/step - loss: 0.6793 - accuracy: 0.7069 - val_loss: 0.6969 - val_accuracy: 0.4667\n",
            "Epoch 6/10\n",
            "4/4 [==============================] - 0s 109ms/step - loss: 0.6774 - accuracy: 0.7069 - val_loss: 0.6982 - val_accuracy: 0.4667\n",
            "Epoch 7/10\n",
            "4/4 [==============================] - 0s 113ms/step - loss: 0.6692 - accuracy: 0.7069 - val_loss: 0.7000 - val_accuracy: 0.4667\n",
            "Epoch 8/10\n",
            "4/4 [==============================] - 0s 104ms/step - loss: 0.6586 - accuracy: 0.7069 - val_loss: 0.7025 - val_accuracy: 0.4667\n",
            "Epoch 9/10\n",
            "4/4 [==============================] - 0s 105ms/step - loss: 0.6601 - accuracy: 0.7069 - val_loss: 0.7054 - val_accuracy: 0.4667\n",
            "Epoch 10/10\n",
            "4/4 [==============================] - 0s 108ms/step - loss: 0.6480 - accuracy: 0.7069 - val_loss: 0.7090 - val_accuracy: 0.4667\n",
            "###client6###\n",
            "Epoch 1/10\n",
            "4/4 [==============================] - 0s 123ms/step - loss: 0.6906 - accuracy: 0.6207 - val_loss: 0.6930 - val_accuracy: 0.5333\n",
            "Epoch 2/10\n",
            "4/4 [==============================] - 0s 108ms/step - loss: 0.6815 - accuracy: 0.6897 - val_loss: 0.6923 - val_accuracy: 0.5333\n",
            "Epoch 3/10\n",
            "4/4 [==============================] - 0s 103ms/step - loss: 0.6778 - accuracy: 0.7586 - val_loss: 0.6921 - val_accuracy: 0.5333\n",
            "Epoch 4/10\n",
            "4/4 [==============================] - 0s 106ms/step - loss: 0.6706 - accuracy: 0.7414 - val_loss: 0.6924 - val_accuracy: 0.5333\n",
            "Epoch 5/10\n",
            "4/4 [==============================] - 0s 103ms/step - loss: 0.6653 - accuracy: 0.7241 - val_loss: 0.6934 - val_accuracy: 0.5333\n",
            "Epoch 6/10\n",
            "4/4 [==============================] - 0s 104ms/step - loss: 0.6616 - accuracy: 0.7241 - val_loss: 0.6949 - val_accuracy: 0.5333\n",
            "Epoch 7/10\n",
            "4/4 [==============================] - 0s 112ms/step - loss: 0.6460 - accuracy: 0.7241 - val_loss: 0.6969 - val_accuracy: 0.5333\n",
            "Epoch 8/10\n",
            "4/4 [==============================] - 0s 113ms/step - loss: 0.6378 - accuracy: 0.7241 - val_loss: 0.6996 - val_accuracy: 0.5333\n",
            "Epoch 9/10\n",
            "4/4 [==============================] - 0s 115ms/step - loss: 0.6373 - accuracy: 0.7241 - val_loss: 0.7039 - val_accuracy: 0.5333\n",
            "Epoch 10/10\n",
            "4/4 [==============================] - 0s 107ms/step - loss: 0.6257 - accuracy: 0.7241 - val_loss: 0.7108 - val_accuracy: 0.5333\n",
            "###client7###\n",
            "Epoch 1/10\n",
            "4/4 [==============================] - 0s 110ms/step - loss: 0.6910 - accuracy: 0.5517 - val_loss: 0.6918 - val_accuracy: 0.5333\n",
            "Epoch 2/10\n",
            "4/4 [==============================] - 0s 106ms/step - loss: 0.6876 - accuracy: 0.6034 - val_loss: 0.6911 - val_accuracy: 0.5333\n",
            "Epoch 3/10\n",
            "4/4 [==============================] - 0s 101ms/step - loss: 0.6871 - accuracy: 0.5690 - val_loss: 0.6908 - val_accuracy: 0.5333\n",
            "Epoch 4/10\n",
            "4/4 [==============================] - 0s 118ms/step - loss: 0.6880 - accuracy: 0.6379 - val_loss: 0.6904 - val_accuracy: 0.5333\n",
            "Epoch 5/10\n",
            "4/4 [==============================] - 0s 111ms/step - loss: 0.6827 - accuracy: 0.6207 - val_loss: 0.6901 - val_accuracy: 0.5333\n",
            "Epoch 6/10\n",
            "4/4 [==============================] - 0s 103ms/step - loss: 0.6843 - accuracy: 0.5862 - val_loss: 0.6900 - val_accuracy: 0.5333\n",
            "Epoch 7/10\n",
            "4/4 [==============================] - 0s 106ms/step - loss: 0.6864 - accuracy: 0.6034 - val_loss: 0.6900 - val_accuracy: 0.5333\n",
            "Epoch 8/10\n",
            "4/4 [==============================] - 0s 104ms/step - loss: 0.6834 - accuracy: 0.6034 - val_loss: 0.6898 - val_accuracy: 0.5333\n",
            "Epoch 9/10\n",
            "4/4 [==============================] - 0s 120ms/step - loss: 0.6736 - accuracy: 0.6034 - val_loss: 0.6896 - val_accuracy: 0.5333\n",
            "Epoch 10/10\n",
            "4/4 [==============================] - 0s 104ms/step - loss: 0.6790 - accuracy: 0.6034 - val_loss: 0.6896 - val_accuracy: 0.5333\n",
            "###client8###\n",
            "Epoch 1/10\n",
            "4/4 [==============================] - 1s 126ms/step - loss: 0.6919 - accuracy: 0.6034 - val_loss: 0.6914 - val_accuracy: 0.6667\n",
            "Epoch 2/10\n",
            "4/4 [==============================] - 0s 121ms/step - loss: 0.6908 - accuracy: 0.5172 - val_loss: 0.6898 - val_accuracy: 0.6667\n",
            "Epoch 3/10\n",
            "4/4 [==============================] - 0s 107ms/step - loss: 0.6916 - accuracy: 0.5172 - val_loss: 0.6882 - val_accuracy: 0.6667\n",
            "Epoch 4/10\n",
            "4/4 [==============================] - 0s 105ms/step - loss: 0.6868 - accuracy: 0.6034 - val_loss: 0.6866 - val_accuracy: 0.6667\n",
            "Epoch 5/10\n",
            "4/4 [==============================] - 0s 104ms/step - loss: 0.6835 - accuracy: 0.6379 - val_loss: 0.6848 - val_accuracy: 0.6667\n",
            "Epoch 6/10\n",
            "4/4 [==============================] - 0s 107ms/step - loss: 0.6817 - accuracy: 0.6379 - val_loss: 0.6827 - val_accuracy: 0.6667\n",
            "Epoch 7/10\n",
            "4/4 [==============================] - 0s 118ms/step - loss: 0.6823 - accuracy: 0.6379 - val_loss: 0.6800 - val_accuracy: 0.6667\n",
            "Epoch 8/10\n",
            "4/4 [==============================] - 0s 112ms/step - loss: 0.6776 - accuracy: 0.6207 - val_loss: 0.6776 - val_accuracy: 0.6667\n",
            "Epoch 9/10\n",
            "4/4 [==============================] - 0s 102ms/step - loss: 0.6824 - accuracy: 0.6207 - val_loss: 0.6755 - val_accuracy: 0.6667\n",
            "Epoch 10/10\n",
            "4/4 [==============================] - 0s 107ms/step - loss: 0.6776 - accuracy: 0.6207 - val_loss: 0.6732 - val_accuracy: 0.6667\n",
            "###client9###\n",
            "Epoch 1/10\n",
            "4/4 [==============================] - 0s 111ms/step - loss: 0.6926 - accuracy: 0.5172 - val_loss: 0.6969 - val_accuracy: 0.3333\n",
            "Epoch 2/10\n",
            "4/4 [==============================] - 0s 103ms/step - loss: 0.6908 - accuracy: 0.5862 - val_loss: 0.6988 - val_accuracy: 0.3333\n",
            "Epoch 3/10\n",
            "4/4 [==============================] - 0s 105ms/step - loss: 0.6893 - accuracy: 0.5690 - val_loss: 0.7011 - val_accuracy: 0.3333\n",
            "Epoch 4/10\n",
            "4/4 [==============================] - 0s 103ms/step - loss: 0.6895 - accuracy: 0.6379 - val_loss: 0.7030 - val_accuracy: 0.3333\n",
            "Epoch 5/10\n",
            "4/4 [==============================] - 0s 115ms/step - loss: 0.6832 - accuracy: 0.6207 - val_loss: 0.7056 - val_accuracy: 0.3333\n",
            "Epoch 6/10\n",
            "4/4 [==============================] - 0s 120ms/step - loss: 0.6884 - accuracy: 0.5862 - val_loss: 0.7075 - val_accuracy: 0.3333\n",
            "Epoch 7/10\n",
            "4/4 [==============================] - 0s 112ms/step - loss: 0.6861 - accuracy: 0.5862 - val_loss: 0.7097 - val_accuracy: 0.3333\n",
            "Epoch 8/10\n",
            "4/4 [==============================] - 0s 109ms/step - loss: 0.6838 - accuracy: 0.6034 - val_loss: 0.7114 - val_accuracy: 0.3333\n",
            "Epoch 9/10\n",
            "4/4 [==============================] - 0s 113ms/step - loss: 0.6820 - accuracy: 0.6034 - val_loss: 0.7136 - val_accuracy: 0.3333\n",
            "Epoch 10/10\n",
            "4/4 [==============================] - 0s 106ms/step - loss: 0.6833 - accuracy: 0.6034 - val_loss: 0.7159 - val_accuracy: 0.3333\n",
            "###client10###\n",
            "Epoch 1/10\n",
            "4/4 [==============================] - 0s 111ms/step - loss: 0.6916 - accuracy: 0.6034 - val_loss: 0.6916 - val_accuracy: 0.5333\n",
            "Epoch 2/10\n",
            "4/4 [==============================] - 0s 111ms/step - loss: 0.6911 - accuracy: 0.5000 - val_loss: 0.6910 - val_accuracy: 0.5333\n",
            "Epoch 3/10\n",
            "4/4 [==============================] - 0s 106ms/step - loss: 0.6881 - accuracy: 0.6552 - val_loss: 0.6905 - val_accuracy: 0.5333\n",
            "Epoch 4/10\n",
            "4/4 [==============================] - 0s 111ms/step - loss: 0.6835 - accuracy: 0.7069 - val_loss: 0.6900 - val_accuracy: 0.5333\n",
            "Epoch 5/10\n",
            "4/4 [==============================] - 0s 108ms/step - loss: 0.6806 - accuracy: 0.6379 - val_loss: 0.6897 - val_accuracy: 0.5333\n",
            "Epoch 6/10\n",
            "4/4 [==============================] - 0s 115ms/step - loss: 0.6851 - accuracy: 0.6552 - val_loss: 0.6894 - val_accuracy: 0.5333\n",
            "Epoch 7/10\n",
            "4/4 [==============================] - 0s 109ms/step - loss: 0.6812 - accuracy: 0.6552 - val_loss: 0.6890 - val_accuracy: 0.5333\n",
            "Epoch 8/10\n",
            "4/4 [==============================] - 0s 104ms/step - loss: 0.6802 - accuracy: 0.6552 - val_loss: 0.6886 - val_accuracy: 0.5333\n",
            "Epoch 9/10\n",
            "4/4 [==============================] - 0s 115ms/step - loss: 0.6710 - accuracy: 0.6552 - val_loss: 0.6887 - val_accuracy: 0.5333\n",
            "Epoch 10/10\n",
            "4/4 [==============================] - 0s 114ms/step - loss: 0.6760 - accuracy: 0.6552 - val_loss: 0.6891 - val_accuracy: 0.5333\n",
            "###round2###\n",
            "###client1###\n",
            "Epoch 1/10\n",
            "4/4 [==============================] - 0s 116ms/step - loss: 0.7013 - accuracy: 0.5000 - val_loss: 0.7176 - val_accuracy: 0.4000\n",
            "Epoch 2/10\n",
            "4/4 [==============================] - 0s 104ms/step - loss: 0.6984 - accuracy: 0.5000 - val_loss: 0.7182 - val_accuracy: 0.4000\n",
            "Epoch 3/10\n",
            "4/4 [==============================] - 0s 109ms/step - loss: 0.6979 - accuracy: 0.5000 - val_loss: 0.7179 - val_accuracy: 0.4000\n",
            "Epoch 4/10\n",
            "4/4 [==============================] - 0s 114ms/step - loss: 0.7010 - accuracy: 0.5000 - val_loss: 0.7165 - val_accuracy: 0.4000\n",
            "Epoch 5/10\n",
            "4/4 [==============================] - 0s 105ms/step - loss: 0.7022 - accuracy: 0.5000 - val_loss: 0.7152 - val_accuracy: 0.4000\n",
            "Epoch 6/10\n",
            "4/4 [==============================] - 0s 112ms/step - loss: 0.6992 - accuracy: 0.5000 - val_loss: 0.7130 - val_accuracy: 0.4000\n",
            "Epoch 7/10\n",
            "4/4 [==============================] - 0s 102ms/step - loss: 0.6944 - accuracy: 0.5000 - val_loss: 0.7111 - val_accuracy: 0.4000\n",
            "Epoch 8/10\n",
            "4/4 [==============================] - 0s 102ms/step - loss: 0.6959 - accuracy: 0.5000 - val_loss: 0.7096 - val_accuracy: 0.4000\n",
            "Epoch 9/10\n",
            "4/4 [==============================] - 0s 101ms/step - loss: 0.6852 - accuracy: 0.5000 - val_loss: 0.7086 - val_accuracy: 0.4000\n",
            "Epoch 10/10\n",
            "4/4 [==============================] - 0s 119ms/step - loss: 0.6920 - accuracy: 0.5000 - val_loss: 0.7071 - val_accuracy: 0.4000\n",
            "###client2###\n",
            "Epoch 1/10\n",
            "4/4 [==============================] - 0s 111ms/step - loss: 0.6654 - accuracy: 0.6897 - val_loss: 0.6682 - val_accuracy: 0.6667\n",
            "Epoch 2/10\n",
            "4/4 [==============================] - 0s 105ms/step - loss: 0.6625 - accuracy: 0.6897 - val_loss: 0.6666 - val_accuracy: 0.6667\n",
            "Epoch 3/10\n",
            "4/4 [==============================] - 0s 107ms/step - loss: 0.6610 - accuracy: 0.6897 - val_loss: 0.6634 - val_accuracy: 0.6667\n",
            "Epoch 4/10\n",
            "4/4 [==============================] - 0s 108ms/step - loss: 0.6565 - accuracy: 0.6897 - val_loss: 0.6599 - val_accuracy: 0.6667\n",
            "Epoch 5/10\n",
            "4/4 [==============================] - 0s 104ms/step - loss: 0.6566 - accuracy: 0.6897 - val_loss: 0.6556 - val_accuracy: 0.6667\n",
            "Epoch 6/10\n",
            "4/4 [==============================] - 0s 105ms/step - loss: 0.6480 - accuracy: 0.6897 - val_loss: 0.6519 - val_accuracy: 0.6667\n",
            "Epoch 7/10\n",
            "4/4 [==============================] - 0s 103ms/step - loss: 0.6442 - accuracy: 0.6897 - val_loss: 0.6477 - val_accuracy: 0.6667\n",
            "Epoch 8/10\n",
            "4/4 [==============================] - 0s 104ms/step - loss: 0.6309 - accuracy: 0.6897 - val_loss: 0.6441 - val_accuracy: 0.6667\n",
            "Epoch 9/10\n",
            "4/4 [==============================] - 0s 104ms/step - loss: 0.6239 - accuracy: 0.6897 - val_loss: 0.6405 - val_accuracy: 0.6667\n",
            "Epoch 10/10\n",
            "4/4 [==============================] - 0s 102ms/step - loss: 0.6188 - accuracy: 0.6897 - val_loss: 0.6377 - val_accuracy: 0.6667\n",
            "###client3###\n",
            "Epoch 1/10\n",
            "4/4 [==============================] - 0s 113ms/step - loss: 0.6805 - accuracy: 0.6207 - val_loss: 0.6741 - val_accuracy: 0.6000\n",
            "Epoch 2/10\n",
            "4/4 [==============================] - 0s 102ms/step - loss: 0.6708 - accuracy: 0.6207 - val_loss: 0.6730 - val_accuracy: 0.6000\n",
            "Epoch 3/10\n",
            "4/4 [==============================] - 0s 105ms/step - loss: 0.6677 - accuracy: 0.6207 - val_loss: 0.6718 - val_accuracy: 0.6000\n",
            "Epoch 4/10\n",
            "4/4 [==============================] - 0s 104ms/step - loss: 0.6735 - accuracy: 0.6207 - val_loss: 0.6708 - val_accuracy: 0.6000\n",
            "Epoch 5/10\n",
            "4/4 [==============================] - 0s 118ms/step - loss: 0.6648 - accuracy: 0.6207 - val_loss: 0.6702 - val_accuracy: 0.6000\n",
            "Epoch 6/10\n",
            "4/4 [==============================] - 0s 102ms/step - loss: 0.6597 - accuracy: 0.6207 - val_loss: 0.6697 - val_accuracy: 0.6000\n",
            "Epoch 7/10\n",
            "4/4 [==============================] - 0s 105ms/step - loss: 0.6716 - accuracy: 0.6207 - val_loss: 0.6691 - val_accuracy: 0.6000\n",
            "Epoch 8/10\n",
            "4/4 [==============================] - 0s 107ms/step - loss: 0.6615 - accuracy: 0.6207 - val_loss: 0.6687 - val_accuracy: 0.6000\n",
            "Epoch 9/10\n",
            "4/4 [==============================] - 0s 106ms/step - loss: 0.6571 - accuracy: 0.6207 - val_loss: 0.6683 - val_accuracy: 0.6000\n",
            "Epoch 10/10\n",
            "4/4 [==============================] - 0s 102ms/step - loss: 0.6654 - accuracy: 0.6207 - val_loss: 0.6680 - val_accuracy: 0.6000\n",
            "###client4###\n",
            "Epoch 1/10\n",
            "4/4 [==============================] - 0s 109ms/step - loss: 0.6869 - accuracy: 0.5690 - val_loss: 0.6888 - val_accuracy: 0.5333\n",
            "Epoch 2/10\n",
            "4/4 [==============================] - 0s 106ms/step - loss: 0.6861 - accuracy: 0.5690 - val_loss: 0.6889 - val_accuracy: 0.5333\n",
            "Epoch 3/10\n",
            "4/4 [==============================] - 0s 102ms/step - loss: 0.6902 - accuracy: 0.5690 - val_loss: 0.6890 - val_accuracy: 0.5333\n",
            "Epoch 4/10\n",
            "4/4 [==============================] - 0s 105ms/step - loss: 0.6822 - accuracy: 0.5690 - val_loss: 0.6890 - val_accuracy: 0.5333\n",
            "Epoch 5/10\n",
            "4/4 [==============================] - 0s 99ms/step - loss: 0.6901 - accuracy: 0.5690 - val_loss: 0.6890 - val_accuracy: 0.5333\n",
            "Epoch 6/10\n",
            "4/4 [==============================] - 0s 103ms/step - loss: 0.6905 - accuracy: 0.5690 - val_loss: 0.6891 - val_accuracy: 0.5333\n",
            "Epoch 7/10\n",
            "4/4 [==============================] - 0s 101ms/step - loss: 0.6855 - accuracy: 0.5690 - val_loss: 0.6894 - val_accuracy: 0.5333\n",
            "Epoch 8/10\n",
            "4/4 [==============================] - 0s 104ms/step - loss: 0.6875 - accuracy: 0.5690 - val_loss: 0.6897 - val_accuracy: 0.5333\n",
            "Epoch 9/10\n",
            "4/4 [==============================] - 0s 106ms/step - loss: 0.6830 - accuracy: 0.5690 - val_loss: 0.6900 - val_accuracy: 0.5333\n",
            "Epoch 10/10\n",
            "4/4 [==============================] - 0s 105ms/step - loss: 0.6777 - accuracy: 0.5690 - val_loss: 0.6903 - val_accuracy: 0.5333\n",
            "###client5###\n",
            "Epoch 1/10\n",
            "4/4 [==============================] - 0s 108ms/step - loss: 0.6585 - accuracy: 0.7069 - val_loss: 0.7057 - val_accuracy: 0.4667\n",
            "Epoch 2/10\n",
            "4/4 [==============================] - 0s 106ms/step - loss: 0.6520 - accuracy: 0.7069 - val_loss: 0.7078 - val_accuracy: 0.4667\n",
            "Epoch 3/10\n",
            "4/4 [==============================] - 0s 111ms/step - loss: 0.6588 - accuracy: 0.7069 - val_loss: 0.7104 - val_accuracy: 0.4667\n",
            "Epoch 4/10\n",
            "4/4 [==============================] - 0s 114ms/step - loss: 0.6460 - accuracy: 0.7069 - val_loss: 0.7144 - val_accuracy: 0.4667\n",
            "Epoch 5/10\n",
            "4/4 [==============================] - 0s 101ms/step - loss: 0.6348 - accuracy: 0.7069 - val_loss: 0.7194 - val_accuracy: 0.4667\n",
            "Epoch 6/10\n",
            "4/4 [==============================] - 0s 108ms/step - loss: 0.6372 - accuracy: 0.7069 - val_loss: 0.7268 - val_accuracy: 0.4667\n",
            "Epoch 7/10\n",
            "4/4 [==============================] - 0s 102ms/step - loss: 0.6259 - accuracy: 0.7069 - val_loss: 0.7373 - val_accuracy: 0.4667\n",
            "Epoch 8/10\n",
            "4/4 [==============================] - 0s 105ms/step - loss: 0.6321 - accuracy: 0.7069 - val_loss: 0.7481 - val_accuracy: 0.4667\n",
            "Epoch 9/10\n",
            "4/4 [==============================] - 0s 115ms/step - loss: 0.6166 - accuracy: 0.7069 - val_loss: 0.7589 - val_accuracy: 0.4667\n",
            "Epoch 10/10\n",
            "4/4 [==============================] - 0s 106ms/step - loss: 0.6030 - accuracy: 0.7069 - val_loss: 0.7759 - val_accuracy: 0.4667\n",
            "###client6###\n",
            "Epoch 1/10\n",
            "4/4 [==============================] - 0s 115ms/step - loss: 0.6509 - accuracy: 0.7241 - val_loss: 0.6954 - val_accuracy: 0.5333\n",
            "Epoch 2/10\n",
            "4/4 [==============================] - 0s 102ms/step - loss: 0.6555 - accuracy: 0.7241 - val_loss: 0.6969 - val_accuracy: 0.5333\n",
            "Epoch 3/10\n",
            "4/4 [==============================] - 0s 108ms/step - loss: 0.6255 - accuracy: 0.7241 - val_loss: 0.6994 - val_accuracy: 0.5333\n",
            "Epoch 4/10\n",
            "4/4 [==============================] - 0s 119ms/step - loss: 0.6163 - accuracy: 0.7241 - val_loss: 0.7047 - val_accuracy: 0.5333\n",
            "Epoch 5/10\n",
            "4/4 [==============================] - 0s 107ms/step - loss: 0.6206 - accuracy: 0.7241 - val_loss: 0.7117 - val_accuracy: 0.5333\n",
            "Epoch 6/10\n",
            "4/4 [==============================] - 0s 105ms/step - loss: 0.5930 - accuracy: 0.7241 - val_loss: 0.7225 - val_accuracy: 0.5333\n",
            "Epoch 7/10\n",
            "4/4 [==============================] - 0s 108ms/step - loss: 0.5803 - accuracy: 0.7241 - val_loss: 0.7407 - val_accuracy: 0.5333\n",
            "Epoch 8/10\n",
            "4/4 [==============================] - 0s 105ms/step - loss: 0.5822 - accuracy: 0.7241 - val_loss: 0.7701 - val_accuracy: 0.5333\n",
            "Epoch 9/10\n",
            "4/4 [==============================] - 0s 104ms/step - loss: 0.5886 - accuracy: 0.7241 - val_loss: 0.7930 - val_accuracy: 0.5333\n",
            "Epoch 10/10\n",
            "4/4 [==============================] - 0s 106ms/step - loss: 0.5969 - accuracy: 0.7241 - val_loss: 0.8033 - val_accuracy: 0.5333\n",
            "###client7###\n",
            "Epoch 1/10\n",
            "4/4 [==============================] - 0s 122ms/step - loss: 0.6765 - accuracy: 0.6034 - val_loss: 0.6895 - val_accuracy: 0.5333\n",
            "Epoch 2/10\n",
            "4/4 [==============================] - 0s 105ms/step - loss: 0.6721 - accuracy: 0.6034 - val_loss: 0.6899 - val_accuracy: 0.5333\n",
            "Epoch 3/10\n",
            "4/4 [==============================] - 0s 119ms/step - loss: 0.6764 - accuracy: 0.6034 - val_loss: 0.6904 - val_accuracy: 0.5333\n",
            "Epoch 4/10\n",
            "4/4 [==============================] - 0s 118ms/step - loss: 0.6776 - accuracy: 0.6034 - val_loss: 0.6909 - val_accuracy: 0.5333\n",
            "Epoch 5/10\n",
            "4/4 [==============================] - 0s 111ms/step - loss: 0.6855 - accuracy: 0.6034 - val_loss: 0.6913 - val_accuracy: 0.5333\n",
            "Epoch 6/10\n",
            "4/4 [==============================] - 0s 118ms/step - loss: 0.6782 - accuracy: 0.6034 - val_loss: 0.6917 - val_accuracy: 0.5333\n",
            "Epoch 7/10\n",
            "4/4 [==============================] - 0s 106ms/step - loss: 0.6840 - accuracy: 0.6034 - val_loss: 0.6920 - val_accuracy: 0.5333\n",
            "Epoch 8/10\n",
            "4/4 [==============================] - 0s 101ms/step - loss: 0.6803 - accuracy: 0.6034 - val_loss: 0.6923 - val_accuracy: 0.5333\n",
            "Epoch 9/10\n",
            "4/4 [==============================] - 0s 106ms/step - loss: 0.6712 - accuracy: 0.6034 - val_loss: 0.6926 - val_accuracy: 0.5333\n",
            "Epoch 10/10\n",
            "4/4 [==============================] - 0s 115ms/step - loss: 0.6773 - accuracy: 0.6034 - val_loss: 0.6931 - val_accuracy: 0.5333\n",
            "###client8###\n",
            "Epoch 1/10\n",
            "4/4 [==============================] - 0s 121ms/step - loss: 0.6688 - accuracy: 0.6207 - val_loss: 0.6669 - val_accuracy: 0.6667\n",
            "Epoch 2/10\n",
            "4/4 [==============================] - 0s 107ms/step - loss: 0.6708 - accuracy: 0.6207 - val_loss: 0.6656 - val_accuracy: 0.6667\n",
            "Epoch 3/10\n",
            "4/4 [==============================] - 0s 104ms/step - loss: 0.6696 - accuracy: 0.6207 - val_loss: 0.6638 - val_accuracy: 0.6667\n",
            "Epoch 4/10\n",
            "4/4 [==============================] - 0s 107ms/step - loss: 0.6796 - accuracy: 0.6207 - val_loss: 0.6621 - val_accuracy: 0.6667\n",
            "Epoch 5/10\n",
            "4/4 [==============================] - 0s 102ms/step - loss: 0.6716 - accuracy: 0.6207 - val_loss: 0.6610 - val_accuracy: 0.6667\n",
            "Epoch 6/10\n",
            "4/4 [==============================] - 0s 113ms/step - loss: 0.6675 - accuracy: 0.6207 - val_loss: 0.6596 - val_accuracy: 0.6667\n",
            "Epoch 7/10\n",
            "4/4 [==============================] - 0s 116ms/step - loss: 0.6779 - accuracy: 0.6207 - val_loss: 0.6581 - val_accuracy: 0.6667\n",
            "Epoch 8/10\n",
            "4/4 [==============================] - 0s 114ms/step - loss: 0.6663 - accuracy: 0.6207 - val_loss: 0.6569 - val_accuracy: 0.6667\n",
            "Epoch 9/10\n",
            "4/4 [==============================] - 0s 120ms/step - loss: 0.6629 - accuracy: 0.6207 - val_loss: 0.6555 - val_accuracy: 0.6667\n",
            "Epoch 10/10\n",
            "4/4 [==============================] - 0s 119ms/step - loss: 0.6647 - accuracy: 0.6207 - val_loss: 0.6545 - val_accuracy: 0.6667\n",
            "###client9###\n",
            "Epoch 1/10\n",
            "4/4 [==============================] - 0s 114ms/step - loss: 0.6830 - accuracy: 0.6034 - val_loss: 0.7307 - val_accuracy: 0.3333\n",
            "Epoch 2/10\n",
            "4/4 [==============================] - 0s 104ms/step - loss: 0.6738 - accuracy: 0.6034 - val_loss: 0.7336 - val_accuracy: 0.3333\n",
            "Epoch 3/10\n",
            "4/4 [==============================] - 0s 106ms/step - loss: 0.6772 - accuracy: 0.6034 - val_loss: 0.7361 - val_accuracy: 0.3333\n",
            "Epoch 4/10\n",
            "4/4 [==============================] - 0s 110ms/step - loss: 0.6802 - accuracy: 0.6034 - val_loss: 0.7386 - val_accuracy: 0.3333\n",
            "Epoch 5/10\n",
            "4/4 [==============================] - 0s 104ms/step - loss: 0.6752 - accuracy: 0.6034 - val_loss: 0.7405 - val_accuracy: 0.3333\n",
            "Epoch 6/10\n",
            "4/4 [==============================] - 0s 102ms/step - loss: 0.6743 - accuracy: 0.6034 - val_loss: 0.7428 - val_accuracy: 0.3333\n",
            "Epoch 7/10\n",
            "4/4 [==============================] - 0s 103ms/step - loss: 0.6721 - accuracy: 0.6034 - val_loss: 0.7448 - val_accuracy: 0.3333\n",
            "Epoch 8/10\n",
            "4/4 [==============================] - 0s 104ms/step - loss: 0.6700 - accuracy: 0.6034 - val_loss: 0.7464 - val_accuracy: 0.3333\n",
            "Epoch 9/10\n",
            "4/4 [==============================] - 0s 120ms/step - loss: 0.6790 - accuracy: 0.6034 - val_loss: 0.7483 - val_accuracy: 0.3333\n",
            "Epoch 10/10\n",
            "4/4 [==============================] - 0s 116ms/step - loss: 0.6761 - accuracy: 0.6034 - val_loss: 0.7496 - val_accuracy: 0.3333\n",
            "###client10###\n",
            "Epoch 1/10\n",
            "4/4 [==============================] - 0s 109ms/step - loss: 0.6704 - accuracy: 0.6552 - val_loss: 0.6877 - val_accuracy: 0.5333\n",
            "Epoch 2/10\n",
            "4/4 [==============================] - 0s 120ms/step - loss: 0.6725 - accuracy: 0.6552 - val_loss: 0.6877 - val_accuracy: 0.5333\n",
            "Epoch 3/10\n",
            "4/4 [==============================] - 0s 108ms/step - loss: 0.6648 - accuracy: 0.6552 - val_loss: 0.6879 - val_accuracy: 0.5333\n",
            "Epoch 4/10\n",
            "4/4 [==============================] - 0s 104ms/step - loss: 0.6657 - accuracy: 0.6552 - val_loss: 0.6882 - val_accuracy: 0.5333\n",
            "Epoch 5/10\n",
            "4/4 [==============================] - 0s 104ms/step - loss: 0.6526 - accuracy: 0.6552 - val_loss: 0.6888 - val_accuracy: 0.5333\n",
            "Epoch 6/10\n",
            "4/4 [==============================] - 0s 122ms/step - loss: 0.6604 - accuracy: 0.6552 - val_loss: 0.6897 - val_accuracy: 0.5333\n",
            "Epoch 7/10\n",
            "4/4 [==============================] - 0s 104ms/step - loss: 0.6482 - accuracy: 0.6552 - val_loss: 0.6911 - val_accuracy: 0.5333\n",
            "Epoch 8/10\n",
            "4/4 [==============================] - 0s 104ms/step - loss: 0.6467 - accuracy: 0.6552 - val_loss: 0.6930 - val_accuracy: 0.5333\n",
            "Epoch 9/10\n",
            "4/4 [==============================] - 0s 115ms/step - loss: 0.6546 - accuracy: 0.6552 - val_loss: 0.6950 - val_accuracy: 0.5333\n",
            "Epoch 10/10\n",
            "4/4 [==============================] - 0s 105ms/step - loss: 0.6544 - accuracy: 0.6552 - val_loss: 0.6972 - val_accuracy: 0.5333\n"
          ],
          "name": "stdout"
        }
      ]
    },
    {
      "cell_type": "code",
      "metadata": {
        "id": "jKMgm78e6Fk4",
        "colab_type": "code",
        "colab": {}
      },
      "source": [
        "# for i in range(round):\n",
        "#     m = max(C*K, 1)\n",
        "#     m = int(m)\n",
        "#     data,label = shuffle(x_silos, y_silos)\n",
        "#     S_data = data[:m]\n",
        "#     S_label = label[:m]\n",
        "#     weight = []\n",
        "\n",
        "#     for j in range(m):\n",
        "#         weight.append(ClientUpdate(S_data[j], S_label[j], w))\n",
        "#     w = np.mean(weight, axis=0)\n"
      ],
      "execution_count": null,
      "outputs": []
    }
  ]
}